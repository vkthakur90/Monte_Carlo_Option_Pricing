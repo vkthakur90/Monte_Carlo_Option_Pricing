{
  "nbformat": 4,
  "nbformat_minor": 0,
  "metadata": {
    "colab": {
      "provenance": [],
      "authorship_tag": "ABX9TyOmkt+v6ejgfyMC53JyiMsd",
      "include_colab_link": true
    },
    "kernelspec": {
      "name": "python3",
      "display_name": "Python 3"
    },
    "language_info": {
      "name": "python"
    }
  },
  "cells": [
    {
      "cell_type": "markdown",
      "metadata": {
        "id": "view-in-github",
        "colab_type": "text"
      },
      "source": [
        "<a href=\"https://colab.research.google.com/github/vkthakur90/Monte_Carlo_Option_Pricing/blob/main/Modern_Portfolio_Theory_(Linear_Regression).ipynb\" target=\"_parent\"><img src=\"https://colab.research.google.com/assets/colab-badge.svg\" alt=\"Open In Colab\"/></a>"
      ]
    },
    {
      "cell_type": "code",
      "execution_count": 1,
      "metadata": {
        "id": "BfDaFBVuNFhG"
      },
      "outputs": [],
      "source": [
        "import numpy as np\n",
        "import pandas as pd\n",
        "import seaborn as sns\n",
        "import matplotlib.pyplot as plt\n",
        "import scipy.linalg as la\n",
        "import yfinance as yf\n",
        "from datetime import datetime, timedelta"
      ]
    },
    {
      "cell_type": "code",
      "source": [
        "import warnings\n",
        "warnings.filterwarnings(\"ignore\")"
      ],
      "metadata": {
        "id": "D9ISCbcpNj3Q"
      },
      "execution_count": 2,
      "outputs": []
    },
    {
      "cell_type": "code",
      "source": [
        "ticker_list = [\"NIFTYBEES.NS\",\"GOLDBEES.NS\"]\n",
        "\n",
        "ar_p = 120 # Historical Lag\n",
        "ar_h = 30  # Prediction Horizon\n",
        "\n",
        "num_paths = 1000"
      ],
      "metadata": {
        "id": "AV1wwdUNNv-u"
      },
      "execution_count": 3,
      "outputs": []
    },
    {
      "cell_type": "code",
      "source": [
        "def download_data(entity, ticker_list):\n",
        "    data_dict = {}\n",
        "\n",
        "    for ticker in ticker_list:\n",
        "        print(f\"Downloading {ticker}\")\n",
        "\n",
        "        data = yf.download(ticker, period=\"10y\", interval=\"1d\")\n",
        "\n",
        "        if data.index.tzinfo is None:\n",
        "            data.index = data.index.tz_localize('UTC')\n",
        "\n",
        "        data.index = data.index.tz_convert('Asia/Kolkata')\n",
        "\n",
        "        data_dict[ticker] = pd.Series(data['Close'].values.reshape((-1,)), index = data.index)\n",
        "\n",
        "    data_ = pd.DataFrame(data_dict)\n",
        "\n",
        "    entity['data'] = data_"
      ],
      "metadata": {
        "id": "g6Wtvg_dOrvn"
      },
      "execution_count": 4,
      "outputs": []
    },
    {
      "cell_type": "code",
      "source": [
        "def compute_daily_log_return(entity):\n",
        "    log_S = entity['data'].apply(np.log)\n",
        "    prev_log_S = log_S.shift(1)\n",
        "    entity['daily_log_return'] = 100 * (log_S - prev_log_S)"
      ],
      "metadata": {
        "id": "_szFOjxqS2FL"
      },
      "execution_count": 5,
      "outputs": []
    },
    {
      "cell_type": "code",
      "source": [
        "def split_data(entity):\n",
        "    entity['train'] = entity['data'].iloc[:-ar_h]\n",
        "    entity['test'] = entity['data'].iloc[-ar_h:]\n",
        "\n",
        "    entity['daily_log_return_train'] = entity['daily_log_return'].iloc[:-ar_h]\n",
        "    entity['daily_log_return_test'] = entity['daily_log_return'].iloc[-ar_h:]"
      ],
      "metadata": {
        "id": "cnJDqDooTs7z"
      },
      "execution_count": 6,
      "outputs": []
    },
    {
      "cell_type": "code",
      "source": [
        "def feature_engineering(entity):\n",
        "    features_df = entity['daily_log_return_train']\n",
        "\n",
        "    feature_dict = {}\n",
        "\n",
        "    for column in features_df.columns:\n",
        "        for idx in range(ar_p):\n",
        "            feature_dict[f'{column}_m{idx + 1}'] = features_df[column].shift(idx + 1)\n",
        "\n",
        "        for idx in range(ar_h):\n",
        "            feature_dict[f'{column}_p{idx}'] = features_df[column].shift(-idx)\n",
        "\n",
        "    entity['train_features'] = pd.DataFrame(feature_dict).dropna()\n",
        "\n",
        "    X_cols = []\n",
        "    for col in features_df.columns:\n",
        "        X_cols += [f'{col}_m{idx + 1}' for idx in range(ar_p)]\n",
        "\n",
        "    Y_cols = []\n",
        "    for col in features_df.columns:\n",
        "        Y_cols += [f'{col}_p{idx}' for idx in range(ar_h)]\n",
        "\n",
        "    entity['train_x'] = entity['train_features'][X_cols]\n",
        "    entity['train_y'] = entity['train_features'][Y_cols]\n",
        "    entity['train_x'].eval('Intercept = 1', inplace = True)"
      ],
      "metadata": {
        "id": "BD54In4bUZNm"
      },
      "execution_count": 7,
      "outputs": []
    },
    {
      "cell_type": "code",
      "source": [
        "def fit_linear_model(entity):\n",
        "    params = la.inv(entity['train_x'].T @ entity['train_x']) @ (entity['train_x'].T @ entity['train_y'])\n",
        "    params.index = entity['train_x'].columns\n",
        "\n",
        "    entity['params'] = params"
      ],
      "metadata": {
        "id": "Ns3KTayrZu-0"
      },
      "execution_count": 8,
      "outputs": []
    },
    {
      "cell_type": "code",
      "source": [
        "def compute_residue(entity):\n",
        "    entity['residue'] = entity['train_y'] - entity['train_x'] @ entity['params']"
      ],
      "metadata": {
        "id": "szEfoVVjke6Z"
      },
      "execution_count": 9,
      "outputs": []
    },
    {
      "cell_type": "code",
      "source": [
        "def compute_residual_variance(entity):\n",
        "    entity['residual_variance'] = (entity['residue'].T @ entity['residue']) / (len(entity['train_x']) - (ar_p + 1) * ar_h)"
      ],
      "metadata": {
        "id": "AetJ-G9wlpXJ"
      },
      "execution_count": 10,
      "outputs": []
    },
    {
      "cell_type": "code",
      "source": [
        "def compute_residual_correlation(entity):\n",
        "    entity['residual_correlation'] = entity['residue'].corr()"
      ],
      "metadata": {
        "id": "u00rAp6OrH_r"
      },
      "execution_count": 11,
      "outputs": []
    },
    {
      "cell_type": "code",
      "source": [
        "def prepare_prediction_input(entity):\n",
        "    X0 = entity['daily_log_return_train'].iloc[-ar_p:]\n",
        "    X0.index = [f'm{idx + 1}' for idx in reversed(range(ar_p))]\n",
        "\n",
        "    X0_list = []\n",
        "\n",
        "    for col in X0.columns:\n",
        "        for idx in range(ar_p):\n",
        "            X0_list += [X0.loc[f'm{idx + 1}', col]]\n",
        "\n",
        "    X0_list += [1]\n",
        "\n",
        "    X0_df = pd.DataFrame(X0_list).T\n",
        "    X0_df.columns = entity['train_x'].columns\n",
        "\n",
        "    entity['prediction_input'] = X0_df"
      ],
      "metadata": {
        "id": "OVhGTHR4RdJX"
      },
      "execution_count": 12,
      "outputs": []
    },
    {
      "cell_type": "code",
      "source": [
        "def predict(entity):\n",
        "    X0 = entity['prediction_input'].values.reshape((-1,))\n",
        "\n",
        "    coeff_omega = 1 + X0 @ la.inv(entity['train_x'].T @ entity['train_x']) @ X0.T\n",
        "    entity[\"prediction_variance\"] = entity['residual_variance'] * coeff_omega\n",
        "\n",
        "    entity[\"test_prediction\"] = X0 @ entity['params']"
      ],
      "metadata": {
        "id": "XzSlJJxlKh_2"
      },
      "execution_count": 13,
      "outputs": []
    },
    {
      "cell_type": "code",
      "source": [
        "def generate_monte_carlo_path(entity):\n",
        "    monte_carlo_paths = np.random.multivariate_normal(mean = entity[\"test_prediction\"], cov = entity['prediction_variance'], size = num_paths)\n",
        "\n",
        "    monte_carlo_paths_df = pd.DataFrame(monte_carlo_paths, columns = entity[\"test_prediction\"].index)\n",
        "    monte_carlo_paths_df.index = [f'mcp_{idx + 1}' for idx in range(num_paths)]\n",
        "\n",
        "    monte_carlo_path_dict = {}\n",
        "    for ticker in ticker_list:\n",
        "        monte_carlo_path_dict[ticker] = monte_carlo_paths_df[[f'{ticker}_p{idx}' for idx in range(ar_h)]].T\n",
        "        monte_carlo_path_dict[ticker].columns = [f'{ticker}_mcp{idx + 1}' for idx in range(num_paths)]\n",
        "        monte_carlo_path_dict[ticker].index = entity['daily_log_return_test'].index\n",
        "\n",
        "\n",
        "    entity['mc_paths'] = monte_carlo_path_dict"
      ],
      "metadata": {
        "id": "_Kj7cpY4VmZH"
      },
      "execution_count": 14,
      "outputs": []
    },
    {
      "cell_type": "code",
      "source": [
        "def forecast_price(entity):\n",
        "    forecast_dict = {}\n",
        "\n",
        "    for ticker in ticker_list:\n",
        "        S0 = entity['train'].iloc[-1][ticker]\n",
        "        forecast_dict[ticker] = S0 * np.exp(np.cumsum(entity['mc_paths'][ticker], axis = 0)/100)\n",
        "\n",
        "    entity['price_forecast'] = forecast_dict"
      ],
      "metadata": {
        "id": "lyKUlDTxbon6"
      },
      "execution_count": 15,
      "outputs": []
    },
    {
      "cell_type": "code",
      "source": [
        "def compute_quartile(entity):\n",
        "    quantile_dict = {}\n",
        "\n",
        "    for ticker in ticker_list:\n",
        "        quantile_dict[ticker] = entity['price_forecast'][ticker].quantile([0.025, 0.25, 0.5, 0.75, 0.975], axis = 1).T\n",
        "        quantile_dict[ticker].columns = ['low_ci', 'quartile_1st', 'median', 'quartile_3rd', 'high_ci']\n",
        "\n",
        "    entity['quantiles'] = quantile_dict"
      ],
      "metadata": {
        "id": "l1ymgFhzdDcb"
      },
      "execution_count": 16,
      "outputs": []
    },
    {
      "cell_type": "code",
      "source": [
        "entity = {}\n",
        "download_data(entity, ticker_list)\n",
        "compute_daily_log_return(entity)\n",
        "split_data(entity)\n",
        "feature_engineering(entity)\n",
        "fit_linear_model(entity)\n",
        "compute_residue(entity)\n",
        "compute_residual_variance(entity)\n",
        "compute_residual_correlation(entity)\n",
        "prepare_prediction_input(entity)\n",
        "predict(entity)\n",
        "generate_monte_carlo_path(entity)\n",
        "forecast_price(entity)\n",
        "compute_quartile(entity)"
      ],
      "metadata": {
        "colab": {
          "base_uri": "https://localhost:8080/"
        },
        "id": "5h5mceo2R0-I",
        "outputId": "f541d7f6-d8f3-49fd-da7c-49c0676bb4b6"
      },
      "execution_count": 17,
      "outputs": [
        {
          "output_type": "stream",
          "name": "stdout",
          "text": [
            "Downloading NIFTYBEES.NS\n"
          ]
        },
        {
          "output_type": "stream",
          "name": "stderr",
          "text": [
            "[*********************100%***********************]  1 of 1 completed\n",
            "[*********************100%***********************]  1 of 1 completed"
          ]
        },
        {
          "output_type": "stream",
          "name": "stdout",
          "text": [
            "Downloading GOLDBEES.NS\n"
          ]
        },
        {
          "output_type": "stream",
          "name": "stderr",
          "text": [
            "\n"
          ]
        }
      ]
    },
    {
      "cell_type": "code",
      "source": [],
      "metadata": {
        "id": "0j3QGUzcemx6"
      },
      "execution_count": null,
      "outputs": []
    },
    {
      "cell_type": "code",
      "source": [
        "\n",
        "plt.figure(figsize=(15, 10))\n",
        "\n",
        "sns.lineplot(x = 'Date', y = 'NIFTYBEES.NS', data = entity['data'].iloc[-ar_p:].reset_index(), color = 'black')\n",
        "\n",
        "plt.fill_between(entity['quantiles']['NIFTYBEES.NS'].index, entity['quantiles']['NIFTYBEES.NS']['low_ci'], entity['quantiles']['NIFTYBEES.NS']['high_ci'], color = 'grey', alpha = 0.5)"
      ],
      "metadata": {
        "colab": {
          "base_uri": "https://localhost:8080/",
          "height": 466
        },
        "id": "WeyEgpWLbcgv",
        "outputId": "c078d8aa-3e66-4a4f-dd61-5c19d66c7587"
      },
      "execution_count": 23,
      "outputs": [
        {
          "output_type": "execute_result",
          "data": {
            "text/plain": [
              "<matplotlib.collections.FillBetweenPolyCollection at 0x7831c617ff80>"
            ]
          },
          "metadata": {},
          "execution_count": 23
        },
        {
          "output_type": "display_data",
          "data": {
            "text/plain": [
              "<Figure size 640x480 with 1 Axes>"
            ],
            "image/png": "[encoded data removed]"
          },
          "metadata": {}
        }
      ]
    },
    {
      "cell_type": "code",
      "source": [],
      "metadata": {
        "id": "Y1mjxoWuduPp"
      },
      "execution_count": null,
      "outputs": []
    }
  ]
}